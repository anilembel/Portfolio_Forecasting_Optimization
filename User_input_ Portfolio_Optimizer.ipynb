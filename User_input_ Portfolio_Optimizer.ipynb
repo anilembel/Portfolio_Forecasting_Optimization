{
 "cells": [
  {
   "cell_type": "code",
   "execution_count": 42,
   "metadata": {},
   "outputs": [],
   "source": [
    "import pandas_datareader.data as web \n",
    "import datetime \n",
    "import pandas as pd\n",
    "import numpy as np\n",
    "import matplotlib.pyplot as plt\n",
    "from matplotlib import style\n",
    "\n",
    "style.use('ggplot')\n",
    "import yfinance as yf"
   ]
  },
  {
   "attachments": {},
   "cell_type": "markdown",
   "metadata": {},
   "source": [
    "Apple: AAPL\n",
    "Microsoft: MSFT\n",
    "Amazon: AMZN\n",
    "Tesla: TSLA\n",
    "Google: GOOGL\n"
   ]
  },
  {
   "cell_type": "code",
   "execution_count": 43,
   "metadata": {},
   "outputs": [],
   "source": [
    "# Kullanıcıdan sembol, başlangıç tarihi ve bitiş tarihi almak için örnek bir form\n",
    "start_date = input(\"Başlangıç tarihi 1 (yyyy-mm-dd): \")\n",
    "end_date = input(\"Bitiş tarihi 1 (yyyy-mm-dd): \")\n",
    "\n",
    "symbol1 = input(\"Hisse senedi sembolü 1: \")\n",
    "symbol2 = input(\"Hisse senedi sembolü 2: \")\n",
    "symbol3 = input(\"Hisse senedi sembolü 3: \")\n",
    "symbol4 = input(\"Hisse senedi sembolü 4: \")\n",
    "symbol5 = input(\"Hisse senedi sembolü 5: \")"
   ]
  },
  {
   "cell_type": "code",
   "execution_count": 44,
   "metadata": {},
   "outputs": [],
   "source": [
    "# Tarihleri kontrol edin ve hataları yakalayın\n",
    "import datetime\n",
    "\n",
    "def validate_date(date_text):\n",
    "    try:\n",
    "        datetime.datetime.strptime(date_text, '%Y-%m-%d')\n",
    "    except ValueError:\n",
    "        raise ValueError(\"Tarih formatı hatalı, yyyy-mm-dd formatında giriniz.\")\n",
    "\n",
    "# Sembole ve tarihlere ilişkin girişleri kontrol edin\n",
    "if len(symbol1) != 4:\n",
    "    raise ValueError(\"Hisse senedi sembolü 1 geçersiz, lütfen 4 karakterli bir sembol giriniz.\")\n",
    "validate_date(start_date)\n",
    "validate_date(end_date)\n",
    "if end_date < start_date:\n",
    "    raise ValueError(\"Bitiş tarihi başlangıç tarihinden önce olamaz.\")\n",
    "\n",
    "# Aynı kontrol işlemleri 2-5 semboller için de yapılabilir.\n"
   ]
  },
  {
   "cell_type": "code",
   "execution_count": 45,
   "metadata": {},
   "outputs": [
    {
     "name": "stdout",
     "output_type": "stream",
     "text": [
      "[*********************100%***********************]  1 of 1 completed\n",
      "[*********************100%***********************]  1 of 1 completed\n",
      "[*********************100%***********************]  1 of 1 completed\n",
      "[*********************100%***********************]  1 of 1 completed\n",
      "[*********************100%***********************]  1 of 1 completed\n"
     ]
    }
   ],
   "source": [
    "import yfinance as yf\n",
    "\n",
    "symbol_list = [symbol1, symbol2, symbol3, symbol4, symbol5]\n",
    "\n",
    "stock_data = pd.DataFrame()\n",
    "\n",
    "for symbol in symbol_list:\n",
    "    data = yf.download(symbol, start=start_date, end=end_date)\n",
    "    adj_close = data['Adj Close'].to_frame().rename(columns={'Adj Close': symbol})\n",
    "    stock_data = pd.concat([stock_data, adj_close], axis=1)\n",
    "\n"
   ]
  },
  {
   "cell_type": "code",
   "execution_count": 46,
   "metadata": {},
   "outputs": [],
   "source": [
    "symbol_weights = {}\n",
    "for i in range(5):\n",
    "    symbol = input(\"Enter symbol \" + str(i+1) + \": \")\n",
    "    weight = float(input(\"Enter weight for \" + symbol + \": \"))\n",
    "    symbol_weights[symbol] = weight"
   ]
  },
  {
   "cell_type": "code",
   "execution_count": 47,
   "metadata": {},
   "outputs": [],
   "source": [
    "# Get daily close prices for each stock in the portfolio\n",
    "portfolio_prices = pd.DataFrame()\n",
    "for symbol, weight in symbol_weights.items():\n",
    "    stock_prices = stock_data[symbol]\n",
    "    portfolio_prices[symbol] = stock_prices * weight\n",
    "\n",
    "# Calculate daily returns for the portfolio\n",
    "portfolio_returns = portfolio_prices.pct_change().dropna()\n",
    "\n",
    "# Calculate portfolio return and risk\n",
    "portfolio_return = portfolio_returns.sum(axis=1).mean() * 252\n",
    "portfolio_risk = portfolio_returns.std(axis=1).mean() * np.sqrt(252)\n",
    "\n"
   ]
  },
  {
   "cell_type": "code",
   "execution_count": 48,
   "metadata": {},
   "outputs": [
    {
     "name": "stdout",
     "output_type": "stream",
     "text": [
      "AAPL: 0.25\n",
      "MSFT: 0.14\n",
      "AMZN: 0.21\n",
      "TSLA: 0.19\n",
      "GOOGL: 0.21\n"
     ]
    }
   ],
   "source": [
    "import scipy.optimize as sco\n",
    "import pandas as pd\n",
    "\n",
    "# Convert portfolio_returns to a DataFrame\n",
    "portfolio_returns = pd.DataFrame(portfolio_returns)\n",
    "\n",
    "# Calculate the correlation matrix\n",
    "correlation_matrix = portfolio_returns.corr()\n",
    "\n",
    "# Define risk tolerance and return target\n",
    "risk_tolerance = 0.1\n",
    "return_target = 0.2\n",
    "\n",
    "# Define optimization function to minimize portfolio risk\n",
    "def calculate_portfolio_risk(weights):\n",
    "    portfolio_variance = np.dot(weights.T, np.dot(correlation_matrix, weights))\n",
    "    portfolio_volatility = np.sqrt(portfolio_variance)\n",
    "    return portfolio_volatility\n",
    "\n",
    "def calculate_portfolio_return(weights):\n",
    "    portfolio_return = np.dot(portfolio_returns.mean().values, weights * 252)\n",
    "    return -portfolio_return\n",
    "\n",
    "# Define optimization constraints\n",
    "constraints = [{'type': 'eq', 'fun': lambda x: np.sum(x) - 1},\n",
    "               {'type': 'ineq', 'fun': lambda x: calculate_portfolio_return(x) - return_target},\n",
    "               {'type': 'ineq', 'fun': lambda x: risk_tolerance - calculate_portfolio_risk(x)},\n",
    "               {'type': 'ineq', 'fun': lambda x: x}]\n",
    "\n",
    "# Define initial weights\n",
    "weights = np.ones(len(symbol_weights)) / len(symbol_weights)\n",
    "\n",
    "# Perform optimization\n",
    "result = sco.minimize(calculate_portfolio_risk, weights, method='SLSQP', constraints=constraints)\n",
    "\n",
    "# Print optimized portfolio weights\n",
    "optimized_weights = result.x.round(2)\n",
    "for symbol, weight in zip(symbol_weights.keys(), optimized_weights):\n",
    "    print(f\"{symbol}: {weight}\")\n"
   ]
  },
  {
   "cell_type": "code",
   "execution_count": null,
   "metadata": {},
   "outputs": [],
   "source": []
  }
 ],
 "metadata": {
  "kernelspec": {
   "display_name": "Python 3",
   "language": "python",
   "name": "python3"
  },
  "language_info": {
   "codemirror_mode": {
    "name": "ipython",
    "version": 3
   },
   "file_extension": ".py",
   "mimetype": "text/x-python",
   "name": "python",
   "nbconvert_exporter": "python",
   "pygments_lexer": "ipython3",
   "version": "3.10.10"
  },
  "orig_nbformat": 4
 },
 "nbformat": 4,
 "nbformat_minor": 2
}
