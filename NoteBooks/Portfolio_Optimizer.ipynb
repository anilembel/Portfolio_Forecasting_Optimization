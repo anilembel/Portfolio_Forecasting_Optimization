{
 "cells": [
  {
   "cell_type": "code",
   "execution_count": 304,
   "metadata": {},
   "outputs": [],
   "source": [
    "import pandas_datareader.data as web \n",
    "import datetime \n",
    "import pandas as pd\n",
    "import numpy as np\n",
    "import matplotlib.pyplot as plt\n",
    "from matplotlib import style\n",
    "\n",
    "style.use('ggplot')\n",
    "import yfinance as yf"
   ]
  },
  {
   "cell_type": "code",
   "execution_count": 305,
   "metadata": {},
   "outputs": [],
   "source": [
    "stocks = ['KO', 'PEP', 'MNST', 'CABGY']\n",
    "\n",
    "number_of_portfolios = 500\n",
    "RF = 0.02\n",
    "\n",
    "start_date = \"2013-03-09\"\n",
    "end_date = \"2023-03-13\""
   ]
  },
  {
   "cell_type": "code",
   "execution_count": 306,
   "metadata": {},
   "outputs": [
    {
     "name": "stdout",
     "output_type": "stream",
     "text": [
      "[*********************100%***********************]  4 of 4 completed\n"
     ]
    }
   ],
   "source": [
    "data = yf.download(stocks, start=start_date, end=end_date)\n",
    "df = data['Adj Close']"
   ]
  },
  {
   "cell_type": "code",
   "execution_count": 307,
   "metadata": {},
   "outputs": [
    {
     "data": {
      "text/html": [
       "<div>\n",
       "<style scoped>\n",
       "    .dataframe tbody tr th:only-of-type {\n",
       "        vertical-align: middle;\n",
       "    }\n",
       "\n",
       "    .dataframe tbody tr th {\n",
       "        vertical-align: top;\n",
       "    }\n",
       "\n",
       "    .dataframe thead th {\n",
       "        text-align: right;\n",
       "    }\n",
       "</style>\n",
       "<table border=\"1\" class=\"dataframe\">\n",
       "  <thead>\n",
       "    <tr style=\"text-align: right;\">\n",
       "      <th></th>\n",
       "      <th>CABGY</th>\n",
       "      <th>KO</th>\n",
       "      <th>MNST</th>\n",
       "      <th>PEP</th>\n",
       "    </tr>\n",
       "    <tr>\n",
       "      <th>Date</th>\n",
       "      <th></th>\n",
       "      <th></th>\n",
       "      <th></th>\n",
       "      <th></th>\n",
       "    </tr>\n",
       "  </thead>\n",
       "  <tbody>\n",
       "    <tr>\n",
       "      <th>2013-03-11</th>\n",
       "      <td>16.440266</td>\n",
       "      <td>28.478651</td>\n",
       "      <td>15.696667</td>\n",
       "      <td>57.680828</td>\n",
       "    </tr>\n",
       "    <tr>\n",
       "      <th>2013-03-12</th>\n",
       "      <td>16.440266</td>\n",
       "      <td>28.225082</td>\n",
       "      <td>15.396667</td>\n",
       "      <td>57.710850</td>\n",
       "    </tr>\n",
       "    <tr>\n",
       "      <th>2013-03-13</th>\n",
       "      <td>16.352564</td>\n",
       "      <td>28.159414</td>\n",
       "      <td>15.696667</td>\n",
       "      <td>57.755882</td>\n",
       "    </tr>\n",
       "    <tr>\n",
       "      <th>2013-03-14</th>\n",
       "      <td>16.567833</td>\n",
       "      <td>28.473181</td>\n",
       "      <td>15.710000</td>\n",
       "      <td>57.936024</td>\n",
       "    </tr>\n",
       "    <tr>\n",
       "      <th>2013-03-15</th>\n",
       "      <td>16.472157</td>\n",
       "      <td>28.334553</td>\n",
       "      <td>16.126667</td>\n",
       "      <td>57.823452</td>\n",
       "    </tr>\n",
       "  </tbody>\n",
       "</table>\n",
       "</div>"
      ],
      "text/plain": [
       "                CABGY         KO       MNST        PEP\n",
       "Date                                                  \n",
       "2013-03-11  16.440266  28.478651  15.696667  57.680828\n",
       "2013-03-12  16.440266  28.225082  15.396667  57.710850\n",
       "2013-03-13  16.352564  28.159414  15.696667  57.755882\n",
       "2013-03-14  16.567833  28.473181  15.710000  57.936024\n",
       "2013-03-15  16.472157  28.334553  16.126667  57.823452"
      ]
     },
     "execution_count": 307,
     "metadata": {},
     "output_type": "execute_result"
    }
   ],
   "source": [
    "df.head()"
   ]
  },
  {
   "cell_type": "code",
   "execution_count": 308,
   "metadata": {},
   "outputs": [
    {
     "name": "stdout",
     "output_type": "stream",
     "text": [
      "<class 'pandas.core.frame.DataFrame'>\n",
      "DatetimeIndex: 2519 entries, 2013-03-11 to 2023-03-10\n",
      "Data columns (total 4 columns):\n",
      " #   Column  Non-Null Count  Dtype  \n",
      "---  ------  --------------  -----  \n",
      " 0   CABGY   2519 non-null   float64\n",
      " 1   KO      2519 non-null   float64\n",
      " 2   MNST    2519 non-null   float64\n",
      " 3   PEP     2519 non-null   float64\n",
      "dtypes: float64(4)\n",
      "memory usage: 98.4 KB\n"
     ]
    }
   ],
   "source": [
    "df.info()"
   ]
  },
  {
   "cell_type": "code",
   "execution_count": 309,
   "metadata": {},
   "outputs": [],
   "source": [
    "portfolio_returns = []\n",
    "portfolio_risk = []\n",
    "portfolio_weights = []\n",
    "portfolio_sharpe_ratios = []"
   ]
  },
  {
   "cell_type": "code",
   "execution_count": 310,
   "metadata": {},
   "outputs": [],
   "source": [
    "my_weights = [0.25, 0.25, 0.25, 0.25]\n",
    "portfolio_weights.append(my_weights)\n",
    "\n",
    "for portfolio in range (number_of_portfolios):\n",
    "    \n",
    "    # geenrate random weights\n",
    "    weights = np.random.random_sample(len(stocks))\n",
    "    weights = np.round(weights/np.sum(weights), 2)\n",
    "    portfolio_weights.append(weights)\n",
    "    \n",
    "    \n",
    "    # calculate portfolio returns\n",
    "    annualized_return = np.sum((df.pct_change().mean() * weights) * 252)\n",
    "    portfolio_returns.append(annualized_return)\n",
    "\n",
    "    # calculate portfolio risk\n",
    "    matrix_covariance = df.pct_change().cov()\n",
    "    portfolio_variance = np.dot(weights.T, np.dot(matrix_covariance, weights)) * 252\n",
    "    portfolio_Standard_Deviation = np.sqrt(portfolio_variance)\n",
    "    portfolio_risk.append(portfolio_Standard_Deviation)\n",
    "    \n",
    "    # calculate portfolio sharpe ratio\n",
    "    portfolio_sharpe_ratio = (annualized_return -RF) / portfolio_Standard_Deviation\n",
    "    portfolio_sharpe_ratios.append(portfolio_sharpe_ratio)\n",
    "    "
   ]
  },
  {
   "cell_type": "code",
   "execution_count": 311,
   "metadata": {},
   "outputs": [
    {
     "name": "stdout",
     "output_type": "stream",
     "text": [
      "[0.19299398987983557, 0.1465726479847226, 0.13275021769747622, 0.11527189058167789, 0.14053771527043035, 0.1607084817823075, 0.14424915847522154, 0.14467880744499825, 0.1342606410361144, 0.1556153758091285, 0.12569282834953158, 0.1572300645169923, 0.11528111887957743, 0.10802080141306775, 0.13990267052444957, 0.11101880679697965, 0.11451357660373226, 0.16545160991865066, 0.13064340158601373, 0.15639706069574338, 0.13260341154481464, 0.14298116079128106, 0.10984393454973365, 0.13322058212570642, 0.12907176371023382, 0.11655188792248773, 0.1464779940833307, 0.11788757664915643, 0.138628468223256, 0.1183806500867425, 0.15894588903712933, 0.15150755014573755, 0.1593440312796953, 0.13923529305493865, 0.13972767818550869, 0.16109685386532857, 0.12346042719913061, 0.1277672975761019, 0.1406076020824642, 0.11695758355288513, 0.11689291619080339, 0.10685968860665734, 0.10339446791812446, 0.12759106774818338, 0.10872034210380807, 0.13482522878569192, 0.12429038777307624, 0.14422303577423923, 0.1372752830961377, 0.1368776968765792, 0.15004501248345015, 0.1265405572122603, 0.12694047880544923, 0.11233277852263929, 0.12039803174676512, 0.14331118141107416, 0.1343023220952121, 0.12205096825544341, 0.17159166772650675, 0.09473777680310919, 0.12972497216127238, 0.1160517961176698, 0.1335968486755521, 0.15609867908716965, 0.13497188308768807, 0.13708488424974685, 0.14311185256281983, 0.14507872903818722, 0.1467096698164772, 0.13791542041335672, 0.09482749538922304, 0.1083043256961531, 0.11535883780882192, 0.13327533431862368, 0.08856198482643707, 0.135420655957872, 0.13566554927020877, 0.12720833885411323, 0.14252577913150205, 0.14307512638565698, 0.09876043458997907, 0.13347384941689922, 0.12128332010329226, 0.15965178619578815, 0.1230986015560907, 0.15246328133730594, 0.09839779519696036, 0.1367205909490679, 0.1534239478441524, 0.10550223006357436, 0.14849702965101352, 0.13415622381622336, 0.14027082082241057, 0.17731362607475407, 0.12871105551850354, 0.1816502238283131, 0.10772142779614718, 0.1295230238047136, 0.15641811579743906, 0.14012663417805346, 0.13623728767102675, 0.09116101465114741, 0.12632993658080938, 0.1184136588709481, 0.14012223531912602, 0.14324129459904036, 0.13176849608893412, 0.12906777442894313, 0.12631892893228683, 0.10628834021681932, 0.15589106797500318, 0.14562434473802288, 0.13153928801342663, 0.101691714531807, 0.13596970491599092, 0.13490723529226312, 0.1440024858122618, 0.1764693304703086, 0.11093872608640208, 0.14478406482257072, 0.10977761327999168, 0.13316567808212376, 0.1305403737057657, 0.13028778056022688, 0.12939534155245924, 0.13528047816146233, 0.13737364754944106, 0.12745542109470975, 0.12771419929084488, 0.13883290380411065, 0.13192957713637402, 0.10166915737311652, 0.10939625956420251, 0.11854284318019725, 0.12592228874671574, 0.11682414683007916, 0.14076580589462828, 0.15962920947044087, 0.15822142400107073, 0.13814558868421367, 0.12875934536719633, 0.1486944468646363, 0.1444622663309683, 0.1210431043792622, 0.14379558257376812, 0.13763902037380923, 0.1405919114403402, 0.12609371554336474, 0.16893112506861863, 0.145662334811866, 0.13323116603523014, 0.14671284534778908, 0.1282719205238559, 0.10920998228311092, 0.10930229396982662, 0.10973880945616979, 0.1441945581329697, 0.13122575762437427, 0.16854425504259243, 0.1360086410238214, 0.18307975270639493, 0.11052064619345012, 0.15383861404547794, 0.16104264353405673, 0.11660402060710057, 0.10110689083580741, 0.13938002156094115, 0.129994743844568, 0.10054558449384773, 0.14386327361649634, 0.1455738659610703, 0.11643452501173993, 0.15513977236428944, 0.13307186433841325, 0.16846226269738326, 0.09240150029446255, 0.1138002710668616, 0.11784780722469035, 0.13187937024775487, 0.09867692062111827, 0.18577536763378563, 0.12128332010329226, 0.11453092115351649, 0.1087214595551177, 0.12304685888245785, 0.10226402852228919, 0.12590125321167686, 0.1298344765471069, 0.13689529915333476, 0.13787414352660105, 0.11473894184331973, 0.1381986674028139, 0.10897378081232309, 0.1410706640087885, 0.12142349789970192, 0.1652405655482009, 0.10908630887880405, 0.1512432752060222, 0.14081353972031363, 0.1255284199201144, 0.1214536294486317, 0.1540002511159253, 0.1305645847721164, 0.11387374298784403, 0.16032218734594553, 0.10419184344686336, 0.12404029601319531, 0.09634974012636258, 0.12330220382030972, 0.12337195834833493, 0.10173616694987453, 0.12302208638780499, 0.17096404552009986, 0.1098492794426485, 0.15109552301937323, 0.09735239139363755, 0.1450023852872237, 0.14992434859842768, 0.1173650795363134, 0.13658590989623848, 0.13940849920221068, 0.1522571918487911, 0.12643791934299226, 0.132093019965147, 0.14203092634329295, 0.18631891984832433, 0.13548311482503717, 0.1108029275822631, 0.13303209491394716, 0.130063532771949, 0.1575349280364473, 0.12244498893271011, 0.14642545182108108, 0.14045267967791794, 0.15893543741161426, 0.17696735878982955, 0.13795613587181021, 0.10618252681623944, 0.12134260343914557, 0.13187965438242888, 0.10041008969103953, 0.11687172880509915, 0.12188493232606863, 0.13094482644189073, 0.14475459517295436, 0.13947949806025936, 0.12407633388334212, 0.11961522940884062, 0.17835767426645271, 0.14806753253190222, 0.13950658636188587, 0.10663790847601848, 0.10648232417215883, 0.12175449828150128, 0.12396817970383703, 0.12249520998269131, 0.1441589298404597, 0.1425579741657288, 0.14072412483553057, 0.13762403760535807, 0.15582489855592657, 0.1412118074058424, 0.12854224823015892, 0.12899844363991675, 0.1336637064016447, 0.13090424326744582, 0.1285733453797329, 0.1539108362311422, 0.15575941060282023, 0.15642154905572228, 0.13173821268933894, 0.11107533834051991, 0.11834748945187153, 0.11514270627242873, 0.14153800475637227, 0.15865188672082625, 0.1289954199592703, 0.1342500375599339, 0.13046057712986214, 0.10608018724300747, 0.16580489557080705, 0.12240315602294699, 0.11604518732807467, 0.1400739454704332, 0.12553088757775346, 0.11573701599329922, 0.14465983539525643, 0.10801006565287861, 0.10439449967709497, 0.1162135850387825, 0.1307892421380311, 0.16168923779020541, 0.1818199771506451, 0.14123617032285848, 0.11138749895658603, 0.1169033678163185, 0.13460237717810286, 0.11209696165753669, 0.1233613548721544, 0.14222930915755988, 0.15913229860222955, 0.11252605460430598, 0.17850295879546269, 0.14597724037919932, 0.15872631883715815, 0.14739906258303323, 0.15111271571849208, 0.11867297892872858, 0.12227714724500971, 0.11179362516702808, 0.1299439809329414, 0.14487017189203333, 0.1318474593482021, 0.12209073767990951, 0.11612511618798683, 0.12260952280509005, 0.13323708651780922, 0.15194778302503797, 0.11156220716085291, 0.14290576307430497, 0.14318407474848405, 0.15012095206207163, 0.10405855857472279, 0.09466102347450889, 0.11724924509026304, 0.1040702139611967, 0.13461448271127824, 0.12701628610006216, 0.1389206647812335, 0.11591065272061593, 0.12570437785969948, 0.11016405956701908, 0.15523525958231696, 0.13275779208771551, 0.12683084213560614, 0.11633725844308938, 0.14165452750943863, 0.1332109442501701, 0.13041970982074325, 0.13435597640347655, 0.11111620564963881, 0.13738837259092088, 0.1106710178884035, 0.14552488240006672, 0.11769621220212134, 0.15925103128596357, 0.14674847364029908, 0.16733637401114085, 0.15958849401198738, 0.12271834572495434, 0.14048845982109337, 0.12023527722500821, 0.13607193320762218, 0.10590326910807293, 0.13187276145815977, 0.10895959222719392, 0.13369877867114732, 0.13498317487088463, 0.11417804507899684, 0.15293076853026036, 0.09892827627767947, 0.14577211649132865, 0.11667472116911318, 0.1262318298544774, 0.11980219499694825, 0.14047538868727383, 0.14672495088096443, 0.16261373954819122, 0.16885531777400575, 0.12062749214394927, 0.13861730872406808, 0.1481669948698584, 0.11957794720867038, 0.1013480667551869, 0.1313116069668655, 0.13649194430186257, 0.11559864395521519, 0.12592737591265918, 0.115382512418822, 0.13828919973890658, 0.1489746897401038, 0.1359734364703102, 0.1611366091284326, 0.114390319618108, 0.10509473408014608, 0.1897883875451192, 0.13257535764254394, 0.11092333914560891, 0.13734750528180195, 0.15417717465615458, 0.17124057784365596, 0.15158803502865717, 0.13542574312381547, 0.14220578639822523, 0.12725083366318973, 0.13031529260085223, 0.15072489965847846, 0.13588814315082642, 0.15361434669054327, 0.10664518457022173, 0.11087614177627417, 0.15415199798915966, 0.12817533542117554, 0.13270317217880687, 0.1356790104150083, 0.12333480843217329, 0.13129978556836414, 0.13261195153569816, 0.17074338284077062, 0.1329249259017431, 0.13185241423013694, 0.11087972688522278, 0.11460782633278217, 0.11918132658975605, 0.09921965908567815, 0.13300485476165524, 0.14537369695513452, 0.10907283357264247, 0.12798383869013186, 0.1298761576062046, 0.13605624256549817, 0.15311015972812866, 0.14276049811195182, 0.13763766476218503, 0.13965118258387976, 0.09641947508773101, 0.15838761178111088, 0.127242313238963, 0.1514347719370659, 0.09265519132465419, 0.12065129903795793, 0.1531746556728882, 0.12517623215261084, 0.14848052525891073, 0.10948058728304212, 0.12255682869217505, 0.18466692937363344, 0.14090737303068096, 0.1364110498413062, 0.12693442603886157, 0.12127175102646755, 0.13918852482989746, 0.1141475039524303, 0.12866426772680556, 0.13328497219415997, 0.12796085779244257, 0.1305464264723534, 0.16693947609859838, 0.17395104325548927, 0.14894580252119746, 0.1169692795084237, 0.16208063895916766, 0.1404405741447426, 0.1439945214110425, 0.1153970856096364, 0.11607269936870003, 0.13407367544800677, 0.15430318343409186, 0.11831720605227633, 0.12102398047885499, 0.11610847951187545, 0.11310482553371788, 0.1234286221758838, 0.14094025637192378, 0.14372818298603016, 0.1364110498413062, 0.12101737168925988, 0.14545721092399533, 0.13138505932119116, 0.13674521159305536, 0.1492279570312966, 0.14404927360395975, 0.11222711156743004, 0.14586208739911916, 0.1177676206378068, 0.16830047377627055, 0.11984484165669015, 0.1378830930951213, 0.14776239028306798, 0.124736131557319, 0.12631796333164264, 0.1328249075407795, 0.1495625229553878, 0.13996827851522398, 0.1287678711967178, 0.11224870853077107, 0.10512499791308447, 0.1481363214592832, 0.1946345631283671, 0.12793183828952764, 0.16253091388634647, 0.1280313006274838, 0.14971634747528123, 0.11100078078122524, 0.15397920141952437, 0.10219882470385683, 0.10541144000051031, 0.11810673727149083, 0.12146932009075569, 0.13439104867297916]\n"
     ]
    }
   ],
   "source": [
    "print(portfolio_returns)"
   ]
  },
  {
   "cell_type": "code",
   "execution_count": 312,
   "metadata": {},
   "outputs": [],
   "source": [
    "portfolio_returns = np.array(portfolio_returns)\n",
    "portfolio_risk = np.array(portfolio_risk)\n",
    "portfolio_sharpe_ratios = np.array(portfolio_sharpe_ratios) \n",
    "portfolio_metrics = [portfolio_returns, portfolio_risk, portfolio_sharpe_ratios, portfolio_weights]"
   ]
  },
  {
   "cell_type": "code",
   "execution_count": 313,
   "metadata": {},
   "outputs": [
    {
     "data": {
      "text/html": [
       "<div>\n",
       "<style scoped>\n",
       "    .dataframe tbody tr th:only-of-type {\n",
       "        vertical-align: middle;\n",
       "    }\n",
       "\n",
       "    .dataframe tbody tr th {\n",
       "        vertical-align: top;\n",
       "    }\n",
       "\n",
       "    .dataframe thead th {\n",
       "        text-align: right;\n",
       "    }\n",
       "</style>\n",
       "<table border=\"1\" class=\"dataframe\">\n",
       "  <thead>\n",
       "    <tr style=\"text-align: right;\">\n",
       "      <th></th>\n",
       "      <th>Returns</th>\n",
       "      <th>Risk</th>\n",
       "      <th>Sharpe Ratio</th>\n",
       "      <th>Weights</th>\n",
       "    </tr>\n",
       "  </thead>\n",
       "  <tbody>\n",
       "    <tr>\n",
       "      <th>0</th>\n",
       "      <td>0.192994</td>\n",
       "      <td>0.235202</td>\n",
       "      <td>0.735514</td>\n",
       "      <td>[0.25, 0.25, 0.25, 0.25]</td>\n",
       "    </tr>\n",
       "    <tr>\n",
       "      <th>1</th>\n",
       "      <td>0.146573</td>\n",
       "      <td>0.192691</td>\n",
       "      <td>0.656869</td>\n",
       "      <td>[0.08, 0.03, 0.68, 0.22]</td>\n",
       "    </tr>\n",
       "    <tr>\n",
       "      <th>2</th>\n",
       "      <td>0.13275</td>\n",
       "      <td>0.171671</td>\n",
       "      <td>0.65678</td>\n",
       "      <td>[0.26, 0.31, 0.42, 0.01]</td>\n",
       "    </tr>\n",
       "    <tr>\n",
       "      <th>3</th>\n",
       "      <td>0.115272</td>\n",
       "      <td>0.162679</td>\n",
       "      <td>0.585645</td>\n",
       "      <td>[0.28, 0.13, 0.23, 0.36]</td>\n",
       "    </tr>\n",
       "    <tr>\n",
       "      <th>4</th>\n",
       "      <td>0.140538</td>\n",
       "      <td>0.178687</td>\n",
       "      <td>0.674575</td>\n",
       "      <td>[0.22, 0.31, 0.1, 0.37]</td>\n",
       "    </tr>\n",
       "    <tr>\n",
       "      <th>...</th>\n",
       "      <td>...</td>\n",
       "      <td>...</td>\n",
       "      <td>...</td>\n",
       "      <td>...</td>\n",
       "    </tr>\n",
       "    <tr>\n",
       "      <th>495</th>\n",
       "      <td>0.102199</td>\n",
       "      <td>0.175629</td>\n",
       "      <td>0.468025</td>\n",
       "      <td>[0.18, 0.1, 0.37, 0.36]</td>\n",
       "    </tr>\n",
       "    <tr>\n",
       "      <th>496</th>\n",
       "      <td>0.105411</td>\n",
       "      <td>0.171531</td>\n",
       "      <td>0.497935</td>\n",
       "      <td>[0.51, 0.18, 0.05, 0.26]</td>\n",
       "    </tr>\n",
       "    <tr>\n",
       "      <th>497</th>\n",
       "      <td>0.118107</td>\n",
       "      <td>0.163617</td>\n",
       "      <td>0.599613</td>\n",
       "      <td>[0.4, 0.44, 0.14, 0.01]</td>\n",
       "    </tr>\n",
       "    <tr>\n",
       "      <th>498</th>\n",
       "      <td>0.121469</td>\n",
       "      <td>0.178193</td>\n",
       "      <td>0.569435</td>\n",
       "      <td>[0.24, 0.21, 0.1, 0.45]</td>\n",
       "    </tr>\n",
       "    <tr>\n",
       "      <th>499</th>\n",
       "      <td>0.134391</td>\n",
       "      <td>0.171991</td>\n",
       "      <td>0.665099</td>\n",
       "      <td>[0.47, 0.07, 0.18, 0.28]</td>\n",
       "    </tr>\n",
       "  </tbody>\n",
       "</table>\n",
       "<p>500 rows × 4 columns</p>\n",
       "</div>"
      ],
      "text/plain": [
       "      Returns      Risk Sharpe Ratio                   Weights\n",
       "0    0.192994  0.235202     0.735514  [0.25, 0.25, 0.25, 0.25]\n",
       "1    0.146573  0.192691     0.656869  [0.08, 0.03, 0.68, 0.22]\n",
       "2     0.13275  0.171671      0.65678  [0.26, 0.31, 0.42, 0.01]\n",
       "3    0.115272  0.162679     0.585645  [0.28, 0.13, 0.23, 0.36]\n",
       "4    0.140538  0.178687     0.674575   [0.22, 0.31, 0.1, 0.37]\n",
       "..        ...       ...          ...                       ...\n",
       "495  0.102199  0.175629     0.468025   [0.18, 0.1, 0.37, 0.36]\n",
       "496  0.105411  0.171531     0.497935  [0.51, 0.18, 0.05, 0.26]\n",
       "497  0.118107  0.163617     0.599613   [0.4, 0.44, 0.14, 0.01]\n",
       "498  0.121469  0.178193     0.569435   [0.24, 0.21, 0.1, 0.45]\n",
       "499  0.134391  0.171991     0.665099  [0.47, 0.07, 0.18, 0.28]\n",
       "\n",
       "[500 rows x 4 columns]"
      ]
     },
     "execution_count": 313,
     "metadata": {},
     "output_type": "execute_result"
    }
   ],
   "source": [
    "port_df = pd.DataFrame(portfolio_metrics).T\n",
    "port_df.columns = ['Returns', 'Risk', 'Sharpe Ratio', 'Weights']\n",
    "port_df.dropna(inplace=True)\n",
    "port_df"
   ]
  },
  {
   "cell_type": "code",
   "execution_count": 314,
   "metadata": {},
   "outputs": [],
   "source": [
    "df = port_df.copy()"
   ]
  },
  {
   "cell_type": "code",
   "execution_count": 315,
   "metadata": {},
   "outputs": [],
   "source": [
    "stocks = ['KO', 'PEP', 'MNST', 'CABGY']"
   ]
  },
  {
   "cell_type": "code",
   "execution_count": 316,
   "metadata": {},
   "outputs": [],
   "source": [
    "df['Ccola'] = df['Weights'].apply(lambda x: x[0])\n",
    "df['Pepsi'] = df['Weights'].apply(lambda x: x[1])\n",
    "df['Monster'] = df['Weights'].apply(lambda x: x[2])\n",
    "df['Carlsberg'] = df['Weights'].apply(lambda x: x[3])"
   ]
  },
  {
   "cell_type": "code",
   "execution_count": 317,
   "metadata": {},
   "outputs": [],
   "source": [
    "df.drop('Weights', axis=1, inplace=True)"
   ]
  },
  {
   "cell_type": "code",
   "execution_count": 318,
   "metadata": {},
   "outputs": [
    {
     "name": "stdout",
     "output_type": "stream",
     "text": [
      "<class 'pandas.core.frame.DataFrame'>\n",
      "Int64Index: 500 entries, 0 to 499\n",
      "Data columns (total 7 columns):\n",
      " #   Column        Non-Null Count  Dtype  \n",
      "---  ------        --------------  -----  \n",
      " 0   Returns       500 non-null    object \n",
      " 1   Risk          500 non-null    object \n",
      " 2   Sharpe Ratio  500 non-null    object \n",
      " 3   Ccola         500 non-null    float64\n",
      " 4   Pepsi         500 non-null    float64\n",
      " 5   Monster       500 non-null    float64\n",
      " 6   Carlsberg     500 non-null    float64\n",
      "dtypes: float64(4), object(3)\n",
      "memory usage: 31.2+ KB\n"
     ]
    }
   ],
   "source": [
    "df.info()"
   ]
  },
  {
   "cell_type": "code",
   "execution_count": 319,
   "metadata": {},
   "outputs": [
    {
     "data": {
      "text/html": [
       "<div>\n",
       "<style scoped>\n",
       "    .dataframe tbody tr th:only-of-type {\n",
       "        vertical-align: middle;\n",
       "    }\n",
       "\n",
       "    .dataframe tbody tr th {\n",
       "        vertical-align: top;\n",
       "    }\n",
       "\n",
       "    .dataframe thead th {\n",
       "        text-align: right;\n",
       "    }\n",
       "</style>\n",
       "<table border=\"1\" class=\"dataframe\">\n",
       "  <thead>\n",
       "    <tr style=\"text-align: right;\">\n",
       "      <th></th>\n",
       "      <th>Returns</th>\n",
       "      <th>Risk</th>\n",
       "      <th>Sharpe Ratio</th>\n",
       "      <th>Ccola</th>\n",
       "      <th>Pepsi</th>\n",
       "      <th>Monster</th>\n",
       "      <th>Carlsberg</th>\n",
       "    </tr>\n",
       "  </thead>\n",
       "  <tbody>\n",
       "    <tr>\n",
       "      <th>0</th>\n",
       "      <td>0.192994</td>\n",
       "      <td>0.235202</td>\n",
       "      <td>0.735514</td>\n",
       "      <td>0.25</td>\n",
       "      <td>0.25</td>\n",
       "      <td>0.25</td>\n",
       "      <td>0.25</td>\n",
       "    </tr>\n",
       "    <tr>\n",
       "      <th>1</th>\n",
       "      <td>0.146573</td>\n",
       "      <td>0.192691</td>\n",
       "      <td>0.656869</td>\n",
       "      <td>0.08</td>\n",
       "      <td>0.03</td>\n",
       "      <td>0.68</td>\n",
       "      <td>0.22</td>\n",
       "    </tr>\n",
       "    <tr>\n",
       "      <th>2</th>\n",
       "      <td>0.13275</td>\n",
       "      <td>0.171671</td>\n",
       "      <td>0.65678</td>\n",
       "      <td>0.26</td>\n",
       "      <td>0.31</td>\n",
       "      <td>0.42</td>\n",
       "      <td>0.01</td>\n",
       "    </tr>\n",
       "    <tr>\n",
       "      <th>3</th>\n",
       "      <td>0.115272</td>\n",
       "      <td>0.162679</td>\n",
       "      <td>0.585645</td>\n",
       "      <td>0.28</td>\n",
       "      <td>0.13</td>\n",
       "      <td>0.23</td>\n",
       "      <td>0.36</td>\n",
       "    </tr>\n",
       "    <tr>\n",
       "      <th>4</th>\n",
       "      <td>0.140538</td>\n",
       "      <td>0.178687</td>\n",
       "      <td>0.674575</td>\n",
       "      <td>0.22</td>\n",
       "      <td>0.31</td>\n",
       "      <td>0.10</td>\n",
       "      <td>0.37</td>\n",
       "    </tr>\n",
       "    <tr>\n",
       "      <th>...</th>\n",
       "      <td>...</td>\n",
       "      <td>...</td>\n",
       "      <td>...</td>\n",
       "      <td>...</td>\n",
       "      <td>...</td>\n",
       "      <td>...</td>\n",
       "      <td>...</td>\n",
       "    </tr>\n",
       "    <tr>\n",
       "      <th>495</th>\n",
       "      <td>0.102199</td>\n",
       "      <td>0.175629</td>\n",
       "      <td>0.468025</td>\n",
       "      <td>0.18</td>\n",
       "      <td>0.10</td>\n",
       "      <td>0.37</td>\n",
       "      <td>0.36</td>\n",
       "    </tr>\n",
       "    <tr>\n",
       "      <th>496</th>\n",
       "      <td>0.105411</td>\n",
       "      <td>0.171531</td>\n",
       "      <td>0.497935</td>\n",
       "      <td>0.51</td>\n",
       "      <td>0.18</td>\n",
       "      <td>0.05</td>\n",
       "      <td>0.26</td>\n",
       "    </tr>\n",
       "    <tr>\n",
       "      <th>497</th>\n",
       "      <td>0.118107</td>\n",
       "      <td>0.163617</td>\n",
       "      <td>0.599613</td>\n",
       "      <td>0.40</td>\n",
       "      <td>0.44</td>\n",
       "      <td>0.14</td>\n",
       "      <td>0.01</td>\n",
       "    </tr>\n",
       "    <tr>\n",
       "      <th>498</th>\n",
       "      <td>0.121469</td>\n",
       "      <td>0.178193</td>\n",
       "      <td>0.569435</td>\n",
       "      <td>0.24</td>\n",
       "      <td>0.21</td>\n",
       "      <td>0.10</td>\n",
       "      <td>0.45</td>\n",
       "    </tr>\n",
       "    <tr>\n",
       "      <th>499</th>\n",
       "      <td>0.134391</td>\n",
       "      <td>0.171991</td>\n",
       "      <td>0.665099</td>\n",
       "      <td>0.47</td>\n",
       "      <td>0.07</td>\n",
       "      <td>0.18</td>\n",
       "      <td>0.28</td>\n",
       "    </tr>\n",
       "  </tbody>\n",
       "</table>\n",
       "<p>500 rows × 7 columns</p>\n",
       "</div>"
      ],
      "text/plain": [
       "      Returns      Risk Sharpe Ratio  Ccola  Pepsi  Monster  Carlsberg\n",
       "0    0.192994  0.235202     0.735514   0.25   0.25     0.25       0.25\n",
       "1    0.146573  0.192691     0.656869   0.08   0.03     0.68       0.22\n",
       "2     0.13275  0.171671      0.65678   0.26   0.31     0.42       0.01\n",
       "3    0.115272  0.162679     0.585645   0.28   0.13     0.23       0.36\n",
       "4    0.140538  0.178687     0.674575   0.22   0.31     0.10       0.37\n",
       "..        ...       ...          ...    ...    ...      ...        ...\n",
       "495  0.102199  0.175629     0.468025   0.18   0.10     0.37       0.36\n",
       "496  0.105411  0.171531     0.497935   0.51   0.18     0.05       0.26\n",
       "497  0.118107  0.163617     0.599613   0.40   0.44     0.14       0.01\n",
       "498  0.121469  0.178193     0.569435   0.24   0.21     0.10       0.45\n",
       "499  0.134391  0.171991     0.665099   0.47   0.07     0.18       0.28\n",
       "\n",
       "[500 rows x 7 columns]"
      ]
     },
     "execution_count": 319,
     "metadata": {},
     "output_type": "execute_result"
    }
   ],
   "source": [
    "df"
   ]
  },
  {
   "cell_type": "code",
   "execution_count": 320,
   "metadata": {},
   "outputs": [],
   "source": [
    "df.to_csv('C:\\\\Users\\\\pc\\\\Desktop\\\\Studies\\\\BECODE\\\\Projects\\\\Portfolio_Forecasting_Optimization\\\\datas\\\\Portfolios.csv')"
   ]
  },
  {
   "cell_type": "code",
   "execution_count": 321,
   "metadata": {},
   "outputs": [
    {
     "data": {
      "text/plain": [
       "Returns                         0.104192\n",
       "Risk                            0.161715\n",
       "Sharpe Ratio                     0.52062\n",
       "Weights         [0.17, 0.04, 0.43, 0.35]\n",
       "Name: 205, dtype: object"
      ]
     },
     "execution_count": 321,
     "metadata": {},
     "output_type": "execute_result"
    }
   ],
   "source": [
    "min_risk = port_df.iloc[port_df['Risk'].astype(float).idxmin()]   \n",
    "min_risk"
   ]
  },
  {
   "cell_type": "code",
   "execution_count": 322,
   "metadata": {},
   "outputs": [
    {
     "data": {
      "text/plain": [
       "Returns                         0.194635\n",
       "Risk                            0.242958\n",
       "Sharpe Ratio                    0.718786\n",
       "Weights         [0.32, 0.03, 0.36, 0.29]\n",
       "Name: 488, dtype: object"
      ]
     },
     "execution_count": 322,
     "metadata": {},
     "output_type": "execute_result"
    }
   ],
   "source": [
    "high_return = port_df.iloc[port_df['Returns'].astype(float).idxmax()]   \n",
    "high_return"
   ]
  },
  {
   "cell_type": "code",
   "execution_count": 323,
   "metadata": {},
   "outputs": [
    {
     "data": {
      "text/plain": [
       "Returns                         0.170743\n",
       "Risk                            0.200947\n",
       "Sharpe Ratio                    0.750165\n",
       "Weights         [0.16, 0.22, 0.21, 0.41]\n",
       "Name: 408, dtype: object"
      ]
     },
     "execution_count": 323,
     "metadata": {},
     "output_type": "execute_result"
    }
   ],
   "source": [
    "Best_SR = port_df.iloc[port_df['Sharpe Ratio'].astype(float).idxmax()]   \n",
    "Best_SR"
   ]
  },
  {
   "cell_type": "code",
   "execution_count": 324,
   "metadata": {},
   "outputs": [
    {
     "data": {
      "text/plain": [
       "Returns                         0.192994\n",
       "Risk                            0.235202\n",
       "Sharpe Ratio                    0.735514\n",
       "Weights         [0.25, 0.25, 0.25, 0.25]\n",
       "Name: 0, dtype: object"
      ]
     },
     "execution_count": 324,
     "metadata": {},
     "output_type": "execute_result"
    }
   ],
   "source": [
    "My_Portfolio = port_df.loc[0]\n",
    "My_Portfolio"
   ]
  },
  {
   "cell_type": "code",
   "execution_count": 325,
   "metadata": {},
   "outputs": [
    {
     "name": "stdout",
     "output_type": "stream",
     "text": [
      "My Portfolio\n",
      "Returns                         0.192994\n",
      "Risk                            0.235202\n",
      "Sharpe Ratio                    0.735514\n",
      "Weights         [0.25, 0.25, 0.25, 0.25]\n",
      "Name: 0, dtype: object\n",
      "['KO', 'PEP', 'MNST', 'CABGY']\n",
      "\n",
      "Min Risk\n",
      "Returns                         0.104192\n",
      "Risk                            0.161715\n",
      "Sharpe Ratio                     0.52062\n",
      "Weights         [0.17, 0.04, 0.43, 0.35]\n",
      "Name: 205, dtype: object\n",
      "['KO', 'PEP', 'MNST', 'CABGY']\n",
      "\n",
      "Highest Return\n",
      "Returns                         0.194635\n",
      "Risk                            0.242958\n",
      "Sharpe Ratio                    0.718786\n",
      "Weights         [0.32, 0.03, 0.36, 0.29]\n",
      "Name: 488, dtype: object\n",
      "['KO', 'PEP', 'MNST', 'CABGY']\n",
      "\n",
      "Best Sharpe Ratio\n",
      "Returns                         0.170743\n",
      "Risk                            0.200947\n",
      "Sharpe Ratio                    0.750165\n",
      "Weights         [0.16, 0.22, 0.21, 0.41]\n",
      "Name: 408, dtype: object\n",
      "['KO', 'PEP', 'MNST', 'CABGY']\n",
      "\n"
     ]
    }
   ],
   "source": [
    "print('My Portfolio')\n",
    "print(My_Portfolio)\n",
    "print(stocks)\n",
    "print('')\n",
    "\n",
    "print('Min Risk')\n",
    "print(min_risk)\n",
    "print(stocks)\n",
    "print('')\n",
    "\n",
    "\n",
    "print('Highest Return')\n",
    "print(high_return)\n",
    "print(stocks)\n",
    "print('')\n",
    "\n",
    "\n",
    "print('Best Sharpe Ratio')\n",
    "print(Best_SR)\n",
    "print(stocks)\n",
    "print('')"
   ]
  },
  {
   "cell_type": "code",
   "execution_count": 326,
   "metadata": {},
   "outputs": [],
   "source": [
    "df_best = pd.concat([My_Portfolio, min_risk, Best_SR, high_return], axis=1)"
   ]
  },
  {
   "cell_type": "code",
   "execution_count": 327,
   "metadata": {},
   "outputs": [],
   "source": [
    "df_best.columns = ['My Portfolio', 'Min Risk', 'Best Sharpe Ratio', 'Highest Return']   "
   ]
  },
  {
   "cell_type": "code",
   "execution_count": 328,
   "metadata": {},
   "outputs": [
    {
     "name": "stdout",
     "output_type": "stream",
     "text": [
      "<class 'pandas.core.frame.DataFrame'>\n",
      "Int64Index: 500 entries, 0 to 499\n",
      "Data columns (total 4 columns):\n",
      " #   Column        Non-Null Count  Dtype \n",
      "---  ------        --------------  ----- \n",
      " 0   Returns       500 non-null    object\n",
      " 1   Risk          500 non-null    object\n",
      " 2   Sharpe Ratio  500 non-null    object\n",
      " 3   Weights       500 non-null    object\n",
      "dtypes: object(4)\n",
      "memory usage: 35.7+ KB\n"
     ]
    }
   ],
   "source": [
    "port_df.info()"
   ]
  },
  {
   "cell_type": "code",
   "execution_count": 329,
   "metadata": {},
   "outputs": [
    {
     "name": "stdout",
     "output_type": "stream",
     "text": [
      "<class 'pandas.core.frame.DataFrame'>\n",
      "Index: 4 entries, Returns to Weights\n",
      "Data columns (total 4 columns):\n",
      " #   Column             Non-Null Count  Dtype \n",
      "---  ------             --------------  ----- \n",
      " 0   My Portfolio       4 non-null      object\n",
      " 1   Min Risk           4 non-null      object\n",
      " 2   Best Sharpe Ratio  4 non-null      object\n",
      " 3   Highest Return     4 non-null      object\n",
      "dtypes: object(4)\n",
      "memory usage: 332.0+ bytes\n"
     ]
    }
   ],
   "source": [
    "df_best.info()"
   ]
  },
  {
   "cell_type": "code",
   "execution_count": 330,
   "metadata": {},
   "outputs": [
    {
     "data": {
      "text/html": [
       "<div>\n",
       "<style scoped>\n",
       "    .dataframe tbody tr th:only-of-type {\n",
       "        vertical-align: middle;\n",
       "    }\n",
       "\n",
       "    .dataframe tbody tr th {\n",
       "        vertical-align: top;\n",
       "    }\n",
       "\n",
       "    .dataframe thead th {\n",
       "        text-align: right;\n",
       "    }\n",
       "</style>\n",
       "<table border=\"1\" class=\"dataframe\">\n",
       "  <thead>\n",
       "    <tr style=\"text-align: right;\">\n",
       "      <th></th>\n",
       "      <th>Returns</th>\n",
       "      <th>Risk</th>\n",
       "      <th>Sharpe Ratio</th>\n",
       "      <th>Weights</th>\n",
       "    </tr>\n",
       "  </thead>\n",
       "  <tbody>\n",
       "    <tr>\n",
       "      <th>My Portfolio</th>\n",
       "      <td>0.192994</td>\n",
       "      <td>0.235202</td>\n",
       "      <td>0.735514</td>\n",
       "      <td>[0.25, 0.25, 0.25, 0.25]</td>\n",
       "    </tr>\n",
       "    <tr>\n",
       "      <th>Min Risk</th>\n",
       "      <td>0.104192</td>\n",
       "      <td>0.161715</td>\n",
       "      <td>0.52062</td>\n",
       "      <td>[0.17, 0.04, 0.43, 0.35]</td>\n",
       "    </tr>\n",
       "    <tr>\n",
       "      <th>Best Sharpe Ratio</th>\n",
       "      <td>0.170743</td>\n",
       "      <td>0.200947</td>\n",
       "      <td>0.750165</td>\n",
       "      <td>[0.16, 0.22, 0.21, 0.41]</td>\n",
       "    </tr>\n",
       "    <tr>\n",
       "      <th>Highest Return</th>\n",
       "      <td>0.194635</td>\n",
       "      <td>0.242958</td>\n",
       "      <td>0.718786</td>\n",
       "      <td>[0.32, 0.03, 0.36, 0.29]</td>\n",
       "    </tr>\n",
       "  </tbody>\n",
       "</table>\n",
       "</div>"
      ],
      "text/plain": [
       "                    Returns      Risk Sharpe Ratio                   Weights\n",
       "My Portfolio       0.192994  0.235202     0.735514  [0.25, 0.25, 0.25, 0.25]\n",
       "Min Risk           0.104192  0.161715      0.52062  [0.17, 0.04, 0.43, 0.35]\n",
       "Best Sharpe Ratio  0.170743  0.200947     0.750165  [0.16, 0.22, 0.21, 0.41]\n",
       "Highest Return     0.194635  0.242958     0.718786  [0.32, 0.03, 0.36, 0.29]"
      ]
     },
     "execution_count": 330,
     "metadata": {},
     "output_type": "execute_result"
    }
   ],
   "source": [
    "df_best.T"
   ]
  },
  {
   "cell_type": "code",
   "execution_count": 331,
   "metadata": {},
   "outputs": [
    {
     "data": {
      "image/png": "[encoded data removed]",
      "text/plain": [
       "<Figure size 640x480 with 1 Axes>"
      ]
     },
     "metadata": {},
     "output_type": "display_data"
    }
   ],
   "source": [
    "import pandas as pd\n",
    "import matplotlib.pyplot as plt\n",
    "\n",
    "# Veri setini oluşturun\n",
    "data = {'Returns': [5, 4, 3, 6], 'Risk': [3, 2, 2, 4], 'Sharpe Ratio': [4, 3, 3, 5]}\n",
    "df = pd.DataFrame(data, index=['My Portfolio', 'Min Risk', 'Best Sharpe Ratio', 'Highest Return'])\n",
    "\n",
    "# Çizgi grafiğini çizin\n",
    "ax = df.T.plot(kind='line', marker='o')\n",
    "ax.set_ylabel('Performans')\n",
    "ax.set_title('Portföy Performansı')\n",
    "plt.show()\n"
   ]
  },
  {
   "cell_type": "code",
   "execution_count": 332,
   "metadata": {},
   "outputs": [
    {
     "data": {
      "image/png": "[encoded data removed]",
      "text/plain": [
       "<Figure size 640x480 with 1 Axes>"
      ]
     },
     "metadata": {},
     "output_type": "display_data"
    }
   ],
   "source": [
    "import pandas as pd\n",
    "import matplotlib.pyplot as plt\n",
    "\n",
    "# Veri setini oluşturun\n",
    "data = {'Returns': [5, 4, 3, 6], 'Risk': [3, 2, 2, 4], 'Sharpe Ratio': [4, 3, 3, 5]}\n",
    "df = pd.DataFrame(data, index=['My Portfolio', 'Min Risk', 'Best Sharpe Ratio', 'Highest Return'])\n",
    "\n",
    "# Box plotu çizin\n",
    "fig, ax = plt.subplots()\n",
    "df.boxplot(ax=ax, vert=False)\n",
    "ax.set_xlabel('Performans')\n",
    "ax.set_title('Portföy Performansı')\n",
    "plt.show()\n"
   ]
  },
  {
   "cell_type": "code",
   "execution_count": null,
   "metadata": {},
   "outputs": [],
   "source": []
  },
  {
   "cell_type": "code",
   "execution_count": null,
   "metadata": {},
   "outputs": [],
   "source": []
  },
  {
   "cell_type": "code",
   "execution_count": null,
   "metadata": {},
   "outputs": [],
   "source": []
  },
  {
   "cell_type": "code",
   "execution_count": null,
   "metadata": {},
   "outputs": [],
   "source": []
  },
  {
   "cell_type": "code",
   "execution_count": 333,
   "metadata": {},
   "outputs": [],
   "source": [
    "df_best.to_csv('C:\\\\Users\\\\pc\\\\Desktop\\\\Studies\\\\BECODE\\\\Projects\\\\Portfolio_Forecasting_Optimization\\\\datas\\\\BestPortfolio.csv')"
   ]
  },
  {
   "cell_type": "code",
   "execution_count": null,
   "metadata": {},
   "outputs": [],
   "source": []
  }
 ],
 "metadata": {
  "kernelspec": {
   "display_name": "Python 3",
   "language": "python",
   "name": "python3"
  },
  "language_info": {
   "codemirror_mode": {
    "name": "ipython",
    "version": 3
   },
   "file_extension": ".py",
   "mimetype": "text/x-python",
   "name": "python",
   "nbconvert_exporter": "python",
   "pygments_lexer": "ipython3",
   "version": "3.10.10"
  },
  "orig_nbformat": 4
 },
 "nbformat": 4,
 "nbformat_minor": 2
}
